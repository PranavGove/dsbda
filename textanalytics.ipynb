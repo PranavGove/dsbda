{
 "cells": [
  {
   "cell_type": "code",
   "execution_count": 1,
   "id": "7de37f3a-ab28-416c-b8fc-ccbf9de0729f",
   "metadata": {},
   "outputs": [],
   "source": [
    "import pandas as pd\n",
    "df = pd.read_csv(r\"D:\\extra folder\\Downloads\\dsbda practical\\datasets\\amazon_alexa.tsv\", sep='\t')"
   ]
  },
  {
   "cell_type": "code",
   "execution_count": 2,
   "id": "9519f87b-cd13-4104-8d17-c6a0e1e135be",
   "metadata": {},
   "outputs": [],
   "source": [
    "import string\n",
    "def remove_punctuation(text):\n",
    "    if isinstance(text, str):\n",
    "        return text.translate(str.maketrans('', '', string.punctuation))\n",
    "    return \"\"\n",
    "df['cleaned_text'] = df['verified_reviews'].apply(remove_punctuation)"
   ]
  },
  {
   "cell_type": "code",
   "execution_count": 3,
   "id": "b3a1a9d1-2d87-405b-a67e-3e81d90cb91c",
   "metadata": {},
   "outputs": [
    {
     "name": "stderr",
     "output_type": "stream",
     "text": [
      "[nltk_data] Downloading package punkt to\n",
      "[nltk_data]     C:\\Users\\prana\\AppData\\Roaming\\nltk_data...\n",
      "[nltk_data]   Package punkt is already up-to-date!\n"
     ]
    }
   ],
   "source": [
    "import nltk\n",
    "nltk.download('punkt')\n",
    "df['tokenized_text'] = df['cleaned_text'].apply(nltk.word_tokenize)"
   ]
  },
  {
   "cell_type": "code",
   "execution_count": 4,
   "id": "18219712-cd8b-4763-b99c-1117dcb33d9b",
   "metadata": {},
   "outputs": [
    {
     "name": "stderr",
     "output_type": "stream",
     "text": [
      "[nltk_data] Downloading package stopwords to\n",
      "[nltk_data]     C:\\Users\\prana\\AppData\\Roaming\\nltk_data...\n",
      "[nltk_data]   Package stopwords is already up-to-date!\n"
     ]
    }
   ],
   "source": [
    "from nltk.corpus import stopwords\n",
    "nltk.download('stopwords')\n",
    "stop_words = set(stopwords.words('english'))\n",
    "df['no_stopwords'] = df['tokenized_text'].apply(lambda tokens: [word for word in tokens if word.lower() not in stop_words])"
   ]
  },
  {
   "cell_type": "code",
   "execution_count": 5,
   "id": "0b5c86f7-2d77-4d2d-b65e-d21de05354e0",
   "metadata": {},
   "outputs": [
    {
     "name": "stderr",
     "output_type": "stream",
     "text": [
      "[nltk_data] Downloading package wordnet to\n",
      "[nltk_data]     C:\\Users\\prana\\AppData\\Roaming\\nltk_data...\n",
      "[nltk_data]   Package wordnet is already up-to-date!\n"
     ]
    }
   ],
   "source": [
    "from nltk.stem import PorterStemmer, WordNetLemmatizer\n",
    "nltk.download('wordnet')\n",
    "stemmer = PorterStemmer()\n",
    "lemmatizer = WordNetLemmatizer()\n",
    "df['stemmed'] = df['no_stopwords'].apply(lambda tokens: [stemmer.stem(word) for word in tokens])\n",
    "df['lemmatized'] = df['no_stopwords'].apply(lambda tokens: [lemmatizer.lemmatize(word) for word in tokens])"
   ]
  },
  {
   "cell_type": "code",
   "execution_count": 7,
   "id": "f15d0500-53c2-4644-95e6-418fc40ecab5",
   "metadata": {},
   "outputs": [],
   "source": [
    "from sklearn.feature_extraction.text import CountVectorizer\n",
    "df['processed_text'] = df['lemmatized'].apply(lambda tokens: ' '.join(tokens))\n",
    "vectorizer = CountVectorizer()\n",
    "X_bow = vectorizer.fit_transform(df['processed_text'])"
   ]
  },
  {
   "cell_type": "code",
   "execution_count": 8,
   "id": "b4d077cb-5535-4d96-a561-386b4c878f76",
   "metadata": {},
   "outputs": [],
   "source": [
    "from sklearn.feature_extraction.text import TfidfVectorizer\n",
    "tfidf_vectorizer = TfidfVectorizer()\n",
    "X_tfidf = tfidf_vectorizer.fit_transform(df['processed_text'])"
   ]
  },
  {
   "cell_type": "code",
   "execution_count": 9,
   "id": "b4016b66-a089-46db-a114-a3097febea90",
   "metadata": {},
   "outputs": [
    {
     "data": {
      "text/html": [
       "<div>\n",
       "<style scoped>\n",
       "    .dataframe tbody tr th:only-of-type {\n",
       "        vertical-align: middle;\n",
       "    }\n",
       "\n",
       "    .dataframe tbody tr th {\n",
       "        vertical-align: top;\n",
       "    }\n",
       "\n",
       "    .dataframe thead th {\n",
       "        text-align: right;\n",
       "    }\n",
       "</style>\n",
       "<table border=\"1\" class=\"dataframe\">\n",
       "  <thead>\n",
       "    <tr style=\"text-align: right;\">\n",
       "      <th></th>\n",
       "      <th>rating</th>\n",
       "      <th>date</th>\n",
       "      <th>variation</th>\n",
       "      <th>verified_reviews</th>\n",
       "      <th>feedback</th>\n",
       "      <th>cleaned_text</th>\n",
       "      <th>tokenized_text</th>\n",
       "      <th>no_stopwords</th>\n",
       "      <th>stemmed</th>\n",
       "      <th>lemmatized</th>\n",
       "      <th>processed_text</th>\n",
       "    </tr>\n",
       "  </thead>\n",
       "  <tbody>\n",
       "    <tr>\n",
       "      <th>0</th>\n",
       "      <td>5</td>\n",
       "      <td>31-Jul-18</td>\n",
       "      <td>Charcoal Fabric</td>\n",
       "      <td>Love my Echo!</td>\n",
       "      <td>1</td>\n",
       "      <td>Love my Echo</td>\n",
       "      <td>[Love, my, Echo]</td>\n",
       "      <td>[Love, Echo]</td>\n",
       "      <td>[love, echo]</td>\n",
       "      <td>[Love, Echo]</td>\n",
       "      <td>Love Echo</td>\n",
       "    </tr>\n",
       "    <tr>\n",
       "      <th>1</th>\n",
       "      <td>5</td>\n",
       "      <td>31-Jul-18</td>\n",
       "      <td>Charcoal Fabric</td>\n",
       "      <td>Loved it!</td>\n",
       "      <td>1</td>\n",
       "      <td>Loved it</td>\n",
       "      <td>[Loved, it]</td>\n",
       "      <td>[Loved]</td>\n",
       "      <td>[love]</td>\n",
       "      <td>[Loved]</td>\n",
       "      <td>Loved</td>\n",
       "    </tr>\n",
       "    <tr>\n",
       "      <th>2</th>\n",
       "      <td>4</td>\n",
       "      <td>31-Jul-18</td>\n",
       "      <td>Walnut Finish</td>\n",
       "      <td>Sometimes while playing a game, you can answer...</td>\n",
       "      <td>1</td>\n",
       "      <td>Sometimes while playing a game you can answer ...</td>\n",
       "      <td>[Sometimes, while, playing, a, game, you, can,...</td>\n",
       "      <td>[Sometimes, playing, game, answer, question, c...</td>\n",
       "      <td>[sometim, play, game, answer, question, correc...</td>\n",
       "      <td>[Sometimes, playing, game, answer, question, c...</td>\n",
       "      <td>Sometimes playing game answer question correct...</td>\n",
       "    </tr>\n",
       "    <tr>\n",
       "      <th>3</th>\n",
       "      <td>5</td>\n",
       "      <td>31-Jul-18</td>\n",
       "      <td>Charcoal Fabric</td>\n",
       "      <td>I have had a lot of fun with this thing. My 4 ...</td>\n",
       "      <td>1</td>\n",
       "      <td>I have had a lot of fun with this thing My 4 y...</td>\n",
       "      <td>[I, have, had, a, lot, of, fun, with, this, th...</td>\n",
       "      <td>[lot, fun, thing, 4, yr, old, learns, dinosaur...</td>\n",
       "      <td>[lot, fun, thing, 4, yr, old, learn, dinosaur,...</td>\n",
       "      <td>[lot, fun, thing, 4, yr, old, learns, dinosaur...</td>\n",
       "      <td>lot fun thing 4 yr old learns dinosaur control...</td>\n",
       "    </tr>\n",
       "    <tr>\n",
       "      <th>4</th>\n",
       "      <td>5</td>\n",
       "      <td>31-Jul-18</td>\n",
       "      <td>Charcoal Fabric</td>\n",
       "      <td>Music</td>\n",
       "      <td>1</td>\n",
       "      <td>Music</td>\n",
       "      <td>[Music]</td>\n",
       "      <td>[Music]</td>\n",
       "      <td>[music]</td>\n",
       "      <td>[Music]</td>\n",
       "      <td>Music</td>\n",
       "    </tr>\n",
       "  </tbody>\n",
       "</table>\n",
       "</div>"
      ],
      "text/plain": [
       "   rating       date         variation  \\\n",
       "0       5  31-Jul-18  Charcoal Fabric    \n",
       "1       5  31-Jul-18  Charcoal Fabric    \n",
       "2       4  31-Jul-18    Walnut Finish    \n",
       "3       5  31-Jul-18  Charcoal Fabric    \n",
       "4       5  31-Jul-18  Charcoal Fabric    \n",
       "\n",
       "                                    verified_reviews  feedback  \\\n",
       "0                                      Love my Echo!         1   \n",
       "1                                          Loved it!         1   \n",
       "2  Sometimes while playing a game, you can answer...         1   \n",
       "3  I have had a lot of fun with this thing. My 4 ...         1   \n",
       "4                                              Music         1   \n",
       "\n",
       "                                        cleaned_text  \\\n",
       "0                                       Love my Echo   \n",
       "1                                           Loved it   \n",
       "2  Sometimes while playing a game you can answer ...   \n",
       "3  I have had a lot of fun with this thing My 4 y...   \n",
       "4                                              Music   \n",
       "\n",
       "                                      tokenized_text  \\\n",
       "0                                   [Love, my, Echo]   \n",
       "1                                        [Loved, it]   \n",
       "2  [Sometimes, while, playing, a, game, you, can,...   \n",
       "3  [I, have, had, a, lot, of, fun, with, this, th...   \n",
       "4                                            [Music]   \n",
       "\n",
       "                                        no_stopwords  \\\n",
       "0                                       [Love, Echo]   \n",
       "1                                            [Loved]   \n",
       "2  [Sometimes, playing, game, answer, question, c...   \n",
       "3  [lot, fun, thing, 4, yr, old, learns, dinosaur...   \n",
       "4                                            [Music]   \n",
       "\n",
       "                                             stemmed  \\\n",
       "0                                       [love, echo]   \n",
       "1                                             [love]   \n",
       "2  [sometim, play, game, answer, question, correc...   \n",
       "3  [lot, fun, thing, 4, yr, old, learn, dinosaur,...   \n",
       "4                                            [music]   \n",
       "\n",
       "                                          lemmatized  \\\n",
       "0                                       [Love, Echo]   \n",
       "1                                            [Loved]   \n",
       "2  [Sometimes, playing, game, answer, question, c...   \n",
       "3  [lot, fun, thing, 4, yr, old, learns, dinosaur...   \n",
       "4                                            [Music]   \n",
       "\n",
       "                                      processed_text  \n",
       "0                                          Love Echo  \n",
       "1                                              Loved  \n",
       "2  Sometimes playing game answer question correct...  \n",
       "3  lot fun thing 4 yr old learns dinosaur control...  \n",
       "4                                              Music  "
      ]
     },
     "execution_count": 9,
     "metadata": {},
     "output_type": "execute_result"
    }
   ],
   "source": [
    "df.head()"
   ]
  },
  {
   "cell_type": "code",
   "execution_count": null,
   "id": "59d36b51-5524-4a4d-a420-fd69385f6cc9",
   "metadata": {},
   "outputs": [],
   "source": []
  }
 ],
 "metadata": {
  "kernelspec": {
   "display_name": "Python 3 (ipykernel)",
   "language": "python",
   "name": "python3"
  },
  "language_info": {
   "codemirror_mode": {
    "name": "ipython",
    "version": 3
   },
   "file_extension": ".py",
   "mimetype": "text/x-python",
   "name": "python",
   "nbconvert_exporter": "python",
   "pygments_lexer": "ipython3",
   "version": "3.12.2"
  }
 },
 "nbformat": 4,
 "nbformat_minor": 5
}
